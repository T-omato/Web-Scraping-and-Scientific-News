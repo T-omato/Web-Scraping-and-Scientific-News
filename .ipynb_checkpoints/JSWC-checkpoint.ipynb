{
 "cells": [
  {
   "cell_type": "code",
   "execution_count": 14,
   "metadata": {},
   "outputs": [],
   "source": [
    "import time, json\n",
    "from selenium import webdriver\n",
    "from selenium.webdriver.common.keys import Keys\n",
    "from bs4 import BeautifulSoup, SoupStrainer\n",
    "from bs4.diagnose import diagnose\n",
    "\n",
    "url = 'https://www.jswconline.org/content/by/volume/'\n",
    "JSWC_url = 'https://www.jswconline.org'\n",
    "\n",
    "driver = webdriver.Chrome()\n",
    "issue_link = []\n",
    "for vol in range(76)[36:76]:\n",
    "    JSWC_volume = url + str(vol)\n",
    "    JSWC = driver.get(JSWC_volume)\n",
    "    time.sleep(2)\n",
    "    JSWC_content = driver.page_source\n",
    "    vol_issues = SoupStrainer(class_='hw-issue-meta-data')\n",
    "    volume_soup = BeautifulSoup(JSWC_content, 'html.parser', parse_only = vol_issues)\n",
    "\n",
    "    for link in volume_soup.find_all('a'):\n",
    "        issue_link.append(link.get('href'))\n",
    "\n",
    "title = []\n",
    "title_content = []\n",
    "for content in issue_link:\n",
    "    article_url = JSWC_url + content\n",
    "    article_ = driver.get(article_url)\n",
    "    article_content = driver.page_source\n",
    "    \n",
    "    articles = SoupStrainer(class_='highwire-cite-linked-title')\n",
    "    article_soup = BeautifulSoup(article_content, 'html.parser', parse_only = articles)\n",
    "    \n",
    "    for titles in article_soup.find_all('a'):\n",
    "        title.append(titles.get_text())\n",
    "    \n",
    "    for link in article_soup.find_all('a'):\n",
    "        title_content.append(JSWC_url + link.get('href'))\n",
    "        \n",
    "article_dict = dict(zip(title, title_content))\n",
    "    \n",
    "with open('JSWC.json', 'w+') as fp:\n",
    "    json.dump(article_dict, fp,indent = \"\\n\")\n",
    "    "
   ]
  }
 ],
 "metadata": {
  "kernelspec": {
   "display_name": "Python 3",
   "language": "python",
   "name": "python3"
  },
  "language_info": {
   "codemirror_mode": {
    "name": "ipython",
    "version": 3
   },
   "file_extension": ".py",
   "mimetype": "text/x-python",
   "name": "python",
   "nbconvert_exporter": "python",
   "pygments_lexer": "ipython3",
   "version": "3.7.4"
  }
 },
 "nbformat": 4,
 "nbformat_minor": 4
}
