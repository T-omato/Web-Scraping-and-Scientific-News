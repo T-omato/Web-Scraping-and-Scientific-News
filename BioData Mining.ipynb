{
 "cells": [
  {
   "cell_type": "code",
   "execution_count": 1,
   "metadata": {},
   "outputs": [],
   "source": [
    "import time, json\n",
    "from selenium import webdriver\n",
    "from selenium.webdriver.common.keys import Keys\n",
    "from bs4 import BeautifulSoup, SoupStrainer\n",
    "from bs4.diagnose import diagnose\n",
    "\n",
    "BDM_first = 'https://biodatamining.biomedcentral.com/articles?query=&volume='\n",
    "BDM_second = '&searchType=&tab=keyword'\n",
    "BDM_base = 'https://biodatamining.biomedcentral.com'\n",
    "driver = webdriver.Chrome()\n",
    "\n",
    "title = []\n",
    "title_content = []\n",
    "for vol in range(14)[1:14]:\n",
    "    BDM_volume = BDM_first + str(vol) + BDM_second\n",
    "\n",
    "    volume_ = driver.get(BDM_volume)\n",
    "    article_content = driver.page_source\n",
    "    \n",
    "    articles = SoupStrainer(class_='c-listing__title')\n",
    "    article_soup = BeautifulSoup(article_content, 'html.parser', parse_only = articles)\n",
    "    \n",
    "    for titles in article_soup.find_all('a'):\n",
    "        title.append(titles.get_text())\n",
    "    \n",
    "    for link in article_soup.find_all('a'):\n",
    "        title_content.append(BDM_base + link.get('href'))\n",
    "        \n",
    "article_dict = dict(zip(title, title_content))\n",
    "    \n",
    "with open('BioData_Mining.json', 'w+') as fp:\n",
    "    json.dump(article_dict, fp,indent = \"\\n\")"
   ]
  }
 ],
 "metadata": {
  "kernelspec": {
   "display_name": "Python 3",
   "language": "python",
   "name": "python3"
  },
  "language_info": {
   "codemirror_mode": {
    "name": "ipython",
    "version": 3
   },
   "file_extension": ".py",
   "mimetype": "text/x-python",
   "name": "python",
   "nbconvert_exporter": "python",
   "pygments_lexer": "ipython3",
   "version": "3.7.4"
  }
 },
 "nbformat": 4,
 "nbformat_minor": 4
}
