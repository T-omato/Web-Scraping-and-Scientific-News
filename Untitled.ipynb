{
 "cells": [
  {
   "cell_type": "code",
   "execution_count": null,
   "metadata": {},
   "outputs": [],
   "source": [
    "https://iopscience.iop.org/journal/1478-3975\n",
    "    \n",
    "import time\n",
    "from selenium import webdriver\n",
    "from selenium.webdriver.common.keys import Keys\n",
    "from bs4 import BeautifulSoup, SoupStrainer\n",
    "from bs4.diagnose import diagnose\n",
    "\n",
    "from selenium.webdriver.common.action_chains import ActionChains\n",
    "\n",
    "driver = webdriver.Chrome()\n",
    "developmental = driver.get('https://iopscience.iop.org/journal/1478-3975')\n",
    "developmental_content = driver.page_source\n",
    "only_imp = SoupStrainer(class_='c-list-group__item')\n",
    "volume_soup = BeautifulSoup(developmental_content, 'html.parser', parse_only = only_imp)\n",
    "\n",
    "issue_href = []\n",
    "issue_page = []\n",
    "\n",
    "issue_link = []\n",
    "issue_title = []\n",
    "\n",
    "num_of_pages = 0\n",
    "issue_url = ''\n",
    "article_link = {}"
   ]
  }
 ],
 "metadata": {
  "kernelspec": {
   "display_name": "Python 3",
   "language": "python",
   "name": "python3"
  },
  "language_info": {
   "codemirror_mode": {
    "name": "ipython",
    "version": 3
   },
   "file_extension": ".py",
   "mimetype": "text/x-python",
   "name": "python",
   "nbconvert_exporter": "python",
   "pygments_lexer": "ipython3",
   "version": "3.7.4"
  }
 },
 "nbformat": 4,
 "nbformat_minor": 4
}
