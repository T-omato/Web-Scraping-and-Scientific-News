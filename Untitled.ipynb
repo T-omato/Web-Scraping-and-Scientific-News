{
 "cells": [
  {
   "cell_type": "code",
   "execution_count": 13,
   "metadata": {},
   "outputs": [
    {
     "name": "stdout",
     "output_type": "stream",
     "text": [
      "['/volume/1478-3975/17', '/volume/1478-3975/16', '/volume/1478-3975/15', '/volume/1478-3975/14', '/volume/1478-3975/13', '/volume/1478-3975/12', '/volume/1478-3975/11', '/volume/1478-3975/10', '/volume/1478-3975/9', '/volume/1478-3975/8', '/volume/1478-3975/7', '/volume/1478-3975/6', '/volume/1478-3975/5', '/volume/1478-3975/4', '/volume/1478-3975/3', '/volume/1478-3975/2', '/volume/1478-3975/1']\n"
     ]
    }
   ],
   "source": [
    "\n",
    "    \n",
    "import time\n",
    "from selenium import webdriver\n",
    "from selenium.webdriver.common.keys import Keys\n",
    "from bs4 import BeautifulSoup, SoupStrainer\n",
    "from bs4.diagnose import diagnose\n",
    "\n",
    "from selenium.webdriver.common.action_chains import ActionChains\n",
    "\n",
    "driver = webdriver.Chrome()\n",
    "developmental = driver.get(\"https://iopscience.iop.org/journal/1478-3975\")\n",
    "developmental_content = driver.page_source\n",
    "only_issues = SoupStrainer(class_='mid-tablet-half-left')\n",
    "only_volumes = SoupStrainer(class_='mid-tablet-half-right')\n",
    "issue_soup = BeautifulSoup(developmental_content, 'html.parser', parse_only = only_issues)\n",
    "volume_soup = BeautifulSoup(developmental_content, 'html.parser', parse_only = only_volumes)\n",
    "\n",
    "#Check to see how the soup looks and identify any useful tags\n",
    "\n",
    "#print(issue_soup.prettify())\n",
    "#print(volume_soup.prettify())\n",
    "\n",
    "## Due to this page's structure, first we have to acces Volume, once in Volume we may check the Issues.\n",
    "\n",
    "##First get the journal archive\n",
    "journal_archive = SoupStrainer(id = 'allVolumesSelector')\n",
    "journal_soup = BeautifulSoup(developmental_content, 'html.parser', parse_only = journal_archive)\n",
    "\n",
    "journal_link = []\n",
    "for link in journal_soup.find_all('option'):\n",
    "    journal_link.append(link.get('value'))\n",
    "\n",
    "##Next acces each journal and check out the issues and acces them\n",
    "driver.close()"
   ]
  }
 ],
 "metadata": {
  "kernelspec": {
   "display_name": "Python 3",
   "language": "python",
   "name": "python3"
  },
  "language_info": {
   "codemirror_mode": {
    "name": "ipython",
    "version": 3
   },
   "file_extension": ".py",
   "mimetype": "text/x-python",
   "name": "python",
   "nbconvert_exporter": "python",
   "pygments_lexer": "ipython3",
   "version": "3.7.4"
  }
 },
 "nbformat": 4,
 "nbformat_minor": 4
}
