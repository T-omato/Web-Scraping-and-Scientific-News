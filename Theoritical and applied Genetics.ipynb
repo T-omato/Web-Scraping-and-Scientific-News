{
 "cells": [
  {
   "cell_type": "code",
   "execution_count": 13,
   "metadata": {},
   "outputs": [],
   "source": [
    "import time, json\n",
    "from selenium import webdriver\n",
    "from selenium.webdriver.common.keys import Keys\n",
    "from bs4 import BeautifulSoup, SoupStrainer\n",
    "from bs4.diagnose import diagnose\n",
    "\n",
    "genetics_url = 'https://link.springer.com/journal/122/volumes-and-issues'\n",
    "base_url = 'https://link.springer.com/'\n",
    "\n",
    "driver = webdriver.Chrome()\n",
    "genetics = driver.get(genetics_url)\n",
    "genetics_content = driver.page_source\n",
    "only_issues = SoupStrainer(class_='c-list-group__item')\n",
    "volume_soup = BeautifulSoup(genetics_content, 'html.parser', parse_only = only_issues)\n",
    "\n",
    "issue_link = []\n",
    "for link in volume_soup.find_all('a'):\n",
    "    issue_link.append(link.get('href'))\n",
    "\n",
    "titles = []\n",
    "doi = []\n",
    "for issue in issue_link:\n",
    "    issue_article = driver.get(base_url + issue)\n",
    "    issue_article_content = driver.page_source\n",
    "    only_articles = SoupStrainer(class_='title')\n",
    "    article_soup = BeautifulSoup(issue_article_content, 'html.parser', parse_only = only_articles)\n",
    "    \n",
    "    for title in article_soup.find_all('a'):\n",
    "        titles.append(title.get_text())\n",
    "    for link in article_soup.find_all('a'):\n",
    "        doi.append(base_url + link.get('href'))\n",
    "article_dict = dict(zip(titles,doi))\n",
    "with open('Theoritical and applied Genetics.json', 'w+') as fp:\n",
    "    json.dump(article_dict, fp,indent = \"\\n\")"
   ]
  }
 ],
 "metadata": {
  "kernelspec": {
   "display_name": "Python 3",
   "language": "python",
   "name": "python3"
  },
  "language_info": {
   "codemirror_mode": {
    "name": "ipython",
    "version": 3
   },
   "file_extension": ".py",
   "mimetype": "text/x-python",
   "name": "python",
   "nbconvert_exporter": "python",
   "pygments_lexer": "ipython3",
   "version": "3.7.4"
  }
 },
 "nbformat": 4,
 "nbformat_minor": 4
}
