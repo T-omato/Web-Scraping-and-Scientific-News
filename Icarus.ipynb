{
 "cells": [
  {
   "cell_type": "code",
   "execution_count": 9,
   "metadata": {},
   "outputs": [],
   "source": [
    "import time, json\n",
    "from selenium import webdriver\n",
    "from selenium.webdriver.common.keys import Keys\n",
    "from bs4 import BeautifulSoup, SoupStrainer\n",
    "from bs4.diagnose import diagnose\n",
    "from parsel import Selector\n",
    "from selenium.webdriver.common.action_chains import ActionChains\n",
    "\n",
    "driver = webdriver.Chrome()\n",
    "icarus = driver.get(\"https://www.sciencedirect.com/journal/icarus/issues\")\n",
    "icarus_content = driver.page_source\n",
    "only_imp = SoupStrainer(class_='accordion-title js-accordion-title')\n",
    "volume_soup = BeautifulSoup(icarus_content, 'html.parser', parse_only = only_imp)\n",
    "\n",
    "time.sleep(2)\n",
    "issue_xpath = []    \n",
    "action=ActionChains(driver)\n",
    "def make_issue_xpath():\n",
    "    for i in range(20):\n",
    "        issue_xpath.append('//*[@id=\"0-accordion-tab-'+str(i)+'\"]')\n",
    "    return issue_xpath\n",
    "make_issue_xpath()        \n",
    "\n",
    "issue_href = []\n",
    "\n",
    "def get_issues():\n",
    "    \n",
    "    for i in issue_xpath:    \n",
    "\n",
    "        action.move_to_element(driver.find_element_by_xpath(i)).click().perform()\n",
    "    icarus__content = driver.page_source\n",
    "    only_list = SoupStrainer(class_='js-issue-list-content')\n",
    "    list_soup = BeautifulSoup(icarus__content, 'html.parser', parse_only = only_list)\n",
    "    \n",
    "    for link in list_soup.find_all('a'):\n",
    "        issue_href.append(link.get('href'))\n",
    "\n",
    "get_issues()\n",
    "\n",
    "time.sleep(2)\n",
    "\n",
    "article_link = {}\n",
    "keys = []\n",
    "values = []\n",
    "    \n",
    "def access_issue(issue):\n",
    "    \n",
    "    issue_url = 'https://www.sciencedirect.com' + issue\n",
    "    issue_ = driver.get(issue_url)\n",
    "    issue_content = driver.page_source\n",
    "       \n",
    "    article = SoupStrainer(class_='anchor article-content-title u-margin-xs-top u-margin-s-bottom')\n",
    "    article_soup = BeautifulSoup(issue_content, 'html.parser', parse_only = article)\n",
    "\n",
    "    for string in article_soup.find_all('a'):\n",
    "        keys.append(string.get_text())\n",
    "\n",
    "    for link in article_soup.find_all('a'):\n",
    "        values.append(link.get('href'))\n",
    "\n",
    "    \n",
    "for i in issue_href:\n",
    "    access_issue(i)\n",
    "\n",
    "article_dict = dict(zip(keys, values))\n",
    "    \n",
    "with open('icarus.json', 'w+') as fp:\n",
    "    json.dump(article_dict, fp,indent = \"\\n\")\n"
   ]
  },
  {
   "cell_type": "code",
   "execution_count": null,
   "metadata": {},
   "outputs": [],
   "source": []
  },
  {
   "cell_type": "code",
   "execution_count": 8,
   "metadata": {},
   "outputs": [
    {
     "name": "stdout",
     "output_type": "stream",
     "text": [
      "['An investigation of potential pyroclastic deposits on the southeast limb of the Moon', 'The Acidalia Mensa region on Mars: A key element to test the Mars ocean hypothesis', 'Photometrically-corrected global infrared mosaics of Enceladus: New implications for its spectral diversity and geological activity', \"Probing Europa's subsurface ocean composition from surface salt minerals using in-situ techniques\", 'A benchmarking and sensitivity study of the full two-body gravitational dynamics of the DART mission target, binary asteroid 65803 Didymos', 'Petrophysical properties, mechanical behaviour, and failure modes of impact melt-bearing breccia (suevite) from the Ries impact crater (Germany)'] ['/science/article/pii/S0019103520302104', '/science/article/pii/S0019103520302542', '/science/article/pii/S0019103520302293', '/science/article/pii/S0019103520301366', '/science/article/pii/S001910352030230X', '/science/article/pii/S0019103520302530']\n"
     ]
    }
   ],
   "source": [
    "temp_key = []\n",
    "driver = webdriver.Chrome()   \n",
    "issue_url = 'https://www.sciencedirect.com/journal/icarus/vol/349/suppl/C'\n",
    "issue_ = driver.get(issue_url)\n",
    "issue_content = driver.page_source\n",
    "\n",
    "\n",
    "article = SoupStrainer(class_='anchor article-content-title u-margin-xs-top u-margin-s-bottom')\n",
    "article_soup = BeautifulSoup(issue_content, 'html.parser', parse_only = article)\n",
    "\n",
    "for string in article_soup.find_all('a'):\n",
    "    temp_key.append(string.get_text())\n",
    "temp_val = []\n",
    "for link in article_soup.find_all('a'):\n",
    "    temp_val.append(link.get('href'))\n",
    "    \n",
    "print(temp_key, temp_val)"
   ]
  }
 ],
 "metadata": {
  "kernelspec": {
   "display_name": "Python 3",
   "language": "python",
   "name": "python3"
  },
  "language_info": {
   "codemirror_mode": {
    "name": "ipython",
    "version": 3
   },
   "file_extension": ".py",
   "mimetype": "text/x-python",
   "name": "python",
   "nbconvert_exporter": "python",
   "pygments_lexer": "ipython3",
   "version": "3.7.4"
  }
 },
 "nbformat": 4,
 "nbformat_minor": 4
}
